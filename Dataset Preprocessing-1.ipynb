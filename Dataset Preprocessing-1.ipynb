{
 "cells": [
  {
   "cell_type": "code",
   "execution_count": 1,
   "metadata": {},
   "outputs": [
    {
     "data": {
      "text/plain": [
       "'\\nTO-DO : Clean the datasets\\nUnclean datasets present in Unclean folder\\nReshape all the datasets to the following format [\"ID\" \"Statement\" \"Rating\"]\\n    Statement : Includes the full body text of the news in English\\n    Rating : True:1 False:0\\nClean datasets to be put in clean folder\\nJoin all the datasets together for master set :)\\n\\n'"
      ]
     },
     "execution_count": 1,
     "metadata": {},
     "output_type": "execute_result"
    }
   ],
   "source": [
    "\"\"\"\n",
    "TO-DO : Clean the datasets\n",
    "Unclean datasets present in Unclean folder\n",
    "Reshape all the datasets to the following format [\"ID\" \"Statement\" \"Rating\"]\n",
    "    Statement : Includes the full body text of the news in English\n",
    "    Rating : True:1 False:0\n",
    "Clean datasets to be put in clean folder\n",
    "Join all the datasets together for master set :)\n",
    "\n",
    "\"\"\""
   ]
  },
  {
   "cell_type": "code",
   "execution_count": 2,
   "metadata": {},
   "outputs": [],
   "source": [
    "import pandas as pd"
   ]
  },
  {
   "cell_type": "code",
   "execution_count": 3,
   "metadata": {},
   "outputs": [
    {
     "name": "stdout",
     "output_type": "stream",
     "text": [
      "Dev set size:  712\n",
      "Index(['Speaker', 'Statement', 'Rating'], dtype='object')\n",
      "Train set size:  2576\n",
      "Index(['Speaker', 'Statement', 'Rating'], dtype='object')\n",
      "Test set size:  1075\n",
      "Index(['Speaker', 'Statement', 'Rating'], dtype='object')\n"
     ]
    }
   ],
   "source": [
    "#reading all the datasets from politifact\n",
    "pol_dev=pd.read_csv('unclean datasets/pol_dev.csv')\n",
    "pol_train=pd.read_csv('unclean datasets/pol_train.csv')\n",
    "pol_test=pd.read_csv('unclean datasets/pol_test.csv')\n",
    "\n",
    "print(\"Dev set size: \",pol_dev.Statement.size)\n",
    "print(pol_dev.columns)\n",
    "print(\"Train set size: \",pol_train.Statement.size)\n",
    "print(pol_train.columns)\n",
    "print(\"Test set size: \",pol_test.Statement.size)\n",
    "print(pol_test.columns)\n"
   ]
  },
  {
   "cell_type": "code",
   "execution_count": 4,
   "metadata": {},
   "outputs": [
    {
     "name": "stdout",
     "output_type": "stream",
     "text": [
      "Index(['Statement', 'Rating'], dtype='object')\n",
      "Index(['Statement', 'Rating'], dtype='object')\n",
      "Index(['Statement', 'Rating'], dtype='object')\n"
     ]
    }
   ],
   "source": [
    "#For Politifact : Drop column speaker and Change the Ratings from [0:True to 5:Pants on fire] to [1:true 0:false]\n",
    "\n",
    "pol_dev=pol_dev.drop(columns=['Speaker'])\n",
    "pol_train=pol_train.drop(columns=['Speaker'])\n",
    "pol_test=pol_test.drop(columns=['Speaker'])\n",
    "\n",
    "print(pol_dev.columns)\n",
    "print(pol_train.columns)\n",
    "print(pol_test.columns)\n",
    "\n"
   ]
  },
  {
   "cell_type": "code",
   "execution_count": 5,
   "metadata": {},
   "outputs": [],
   "source": [
    "#Former Ratings [ 0:True 1:Mostly True 2:Half True 3:Half false 4:Mostly false 5:False]\n",
    "#Actual Ratings [0,1,2 = 1 and 3,4,5 = 0]\\\n",
    "\n",
    "def pol_ratechange(x):\n",
    "    h=0\n",
    "    for i in x.Rating:\n",
    "        if i==0 or i==1 or i==2:\n",
    "            x.at[h,'Rating']= 1\n",
    "            h=h+1\n",
    "        else:\n",
    "            x.at[h,'Rating']= 0\n",
    "            h=h+1"
   ]
  },
  {
   "cell_type": "code",
   "execution_count": 6,
   "metadata": {},
   "outputs": [
    {
     "name": "stdout",
     "output_type": "stream",
     "text": [
      "                                           Statement  Rating\n",
      "0  (President) Reagan's second inaugural was move...       1\n",
      "1  For what we spend in just one week in Iraq, 80...       1\n",
      "2  The non-partisan Congressional Budget Office c...       3\n",
      "3  13,000 Floridians are able to vote -- but thei...       4\n",
      "4  Mike Dovillas big ideas like expanding the Ohi...       2\n",
      "5  Tourism accounts for 439,000 jobs in the state...       0\n",
      "6  Even after Obamacare is fully implemented, the...       0\n",
      "7  Fox News airs Stuart Scott R.I.P. tribute with...       5\n",
      "8  It has been many years, if ever, since an inma...       1\n",
      "9  [T]he Georgia Dome has returned $10 billion in...       4\n"
     ]
    },
    {
     "data": {
      "text/html": [
       "<div>\n",
       "<style scoped>\n",
       "    .dataframe tbody tr th:only-of-type {\n",
       "        vertical-align: middle;\n",
       "    }\n",
       "\n",
       "    .dataframe tbody tr th {\n",
       "        vertical-align: top;\n",
       "    }\n",
       "\n",
       "    .dataframe thead th {\n",
       "        text-align: right;\n",
       "    }\n",
       "</style>\n",
       "<table border=\"1\" class=\"dataframe\">\n",
       "  <thead>\n",
       "    <tr style=\"text-align: right;\">\n",
       "      <th></th>\n",
       "      <th>Statement</th>\n",
       "      <th>Rating</th>\n",
       "    </tr>\n",
       "  </thead>\n",
       "  <tbody>\n",
       "    <tr>\n",
       "      <th>0</th>\n",
       "      <td>(President) Reagan's second inaugural was move...</td>\n",
       "      <td>1</td>\n",
       "    </tr>\n",
       "    <tr>\n",
       "      <th>1</th>\n",
       "      <td>For what we spend in just one week in Iraq, 80...</td>\n",
       "      <td>1</td>\n",
       "    </tr>\n",
       "    <tr>\n",
       "      <th>2</th>\n",
       "      <td>The non-partisan Congressional Budget Office c...</td>\n",
       "      <td>0</td>\n",
       "    </tr>\n",
       "    <tr>\n",
       "      <th>3</th>\n",
       "      <td>13,000 Floridians are able to vote -- but thei...</td>\n",
       "      <td>0</td>\n",
       "    </tr>\n",
       "    <tr>\n",
       "      <th>4</th>\n",
       "      <td>Mike Dovillas big ideas like expanding the Ohi...</td>\n",
       "      <td>1</td>\n",
       "    </tr>\n",
       "    <tr>\n",
       "      <th>5</th>\n",
       "      <td>Tourism accounts for 439,000 jobs in the state...</td>\n",
       "      <td>1</td>\n",
       "    </tr>\n",
       "    <tr>\n",
       "      <th>6</th>\n",
       "      <td>Even after Obamacare is fully implemented, the...</td>\n",
       "      <td>1</td>\n",
       "    </tr>\n",
       "    <tr>\n",
       "      <th>7</th>\n",
       "      <td>Fox News airs Stuart Scott R.I.P. tribute with...</td>\n",
       "      <td>0</td>\n",
       "    </tr>\n",
       "    <tr>\n",
       "      <th>8</th>\n",
       "      <td>It has been many years, if ever, since an inma...</td>\n",
       "      <td>1</td>\n",
       "    </tr>\n",
       "    <tr>\n",
       "      <th>9</th>\n",
       "      <td>[T]he Georgia Dome has returned $10 billion in...</td>\n",
       "      <td>0</td>\n",
       "    </tr>\n",
       "  </tbody>\n",
       "</table>\n",
       "</div>"
      ],
      "text/plain": [
       "                                           Statement  Rating\n",
       "0  (President) Reagan's second inaugural was move...       1\n",
       "1  For what we spend in just one week in Iraq, 80...       1\n",
       "2  The non-partisan Congressional Budget Office c...       0\n",
       "3  13,000 Floridians are able to vote -- but thei...       0\n",
       "4  Mike Dovillas big ideas like expanding the Ohi...       1\n",
       "5  Tourism accounts for 439,000 jobs in the state...       1\n",
       "6  Even after Obamacare is fully implemented, the...       1\n",
       "7  Fox News airs Stuart Scott R.I.P. tribute with...       0\n",
       "8  It has been many years, if ever, since an inma...       1\n",
       "9  [T]he Georgia Dome has returned $10 billion in...       0"
      ]
     },
     "execution_count": 6,
     "metadata": {},
     "output_type": "execute_result"
    }
   ],
   "source": [
    "print(pol_dev.head(10))\n",
    "pol_ratechange(pol_dev)\n",
    "pol_dev.head(10)"
   ]
  },
  {
   "cell_type": "code",
   "execution_count": 7,
   "metadata": {},
   "outputs": [
    {
     "name": "stdout",
     "output_type": "stream",
     "text": [
      "                                           Statement  Rating\n",
      "0  More people are driving under the influence of...       2\n",
      "1  The American people will be appalled to learn ...       1\n",
      "2  Medicare has at least $80 billion worth of fra...       2\n",
      "3  In 2010, everybody said you can't dare let gun...       4\n",
      "4  The government's twice the size it was 10 year...       2\n",
      "5  One in 19 Americans today get SSDI or SSI. Tha...       1\n",
      "6  Under the Obama plan . . . all the health care...       4\n",
      "7  Texas ranks 49th in per-pupil funding among th...       1\n",
      "8  Seventy-four percent of Rhode Islanders suppor...       2\n",
      "9  You worked hard for your money and you paid yo...       2\n"
     ]
    },
    {
     "data": {
      "text/html": [
       "<div>\n",
       "<style scoped>\n",
       "    .dataframe tbody tr th:only-of-type {\n",
       "        vertical-align: middle;\n",
       "    }\n",
       "\n",
       "    .dataframe tbody tr th {\n",
       "        vertical-align: top;\n",
       "    }\n",
       "\n",
       "    .dataframe thead th {\n",
       "        text-align: right;\n",
       "    }\n",
       "</style>\n",
       "<table border=\"1\" class=\"dataframe\">\n",
       "  <thead>\n",
       "    <tr style=\"text-align: right;\">\n",
       "      <th></th>\n",
       "      <th>Statement</th>\n",
       "      <th>Rating</th>\n",
       "    </tr>\n",
       "  </thead>\n",
       "  <tbody>\n",
       "    <tr>\n",
       "      <th>0</th>\n",
       "      <td>More people are driving under the influence of...</td>\n",
       "      <td>1</td>\n",
       "    </tr>\n",
       "    <tr>\n",
       "      <th>1</th>\n",
       "      <td>The American people will be appalled to learn ...</td>\n",
       "      <td>1</td>\n",
       "    </tr>\n",
       "    <tr>\n",
       "      <th>2</th>\n",
       "      <td>Medicare has at least $80 billion worth of fra...</td>\n",
       "      <td>1</td>\n",
       "    </tr>\n",
       "    <tr>\n",
       "      <th>3</th>\n",
       "      <td>In 2010, everybody said you can't dare let gun...</td>\n",
       "      <td>0</td>\n",
       "    </tr>\n",
       "    <tr>\n",
       "      <th>4</th>\n",
       "      <td>The government's twice the size it was 10 year...</td>\n",
       "      <td>1</td>\n",
       "    </tr>\n",
       "    <tr>\n",
       "      <th>5</th>\n",
       "      <td>One in 19 Americans today get SSDI or SSI. Tha...</td>\n",
       "      <td>1</td>\n",
       "    </tr>\n",
       "    <tr>\n",
       "      <th>6</th>\n",
       "      <td>Under the Obama plan . . . all the health care...</td>\n",
       "      <td>0</td>\n",
       "    </tr>\n",
       "    <tr>\n",
       "      <th>7</th>\n",
       "      <td>Texas ranks 49th in per-pupil funding among th...</td>\n",
       "      <td>1</td>\n",
       "    </tr>\n",
       "    <tr>\n",
       "      <th>8</th>\n",
       "      <td>Seventy-four percent of Rhode Islanders suppor...</td>\n",
       "      <td>1</td>\n",
       "    </tr>\n",
       "    <tr>\n",
       "      <th>9</th>\n",
       "      <td>You worked hard for your money and you paid yo...</td>\n",
       "      <td>1</td>\n",
       "    </tr>\n",
       "  </tbody>\n",
       "</table>\n",
       "</div>"
      ],
      "text/plain": [
       "                                           Statement  Rating\n",
       "0  More people are driving under the influence of...       1\n",
       "1  The American people will be appalled to learn ...       1\n",
       "2  Medicare has at least $80 billion worth of fra...       1\n",
       "3  In 2010, everybody said you can't dare let gun...       0\n",
       "4  The government's twice the size it was 10 year...       1\n",
       "5  One in 19 Americans today get SSDI or SSI. Tha...       1\n",
       "6  Under the Obama plan . . . all the health care...       0\n",
       "7  Texas ranks 49th in per-pupil funding among th...       1\n",
       "8  Seventy-four percent of Rhode Islanders suppor...       1\n",
       "9  You worked hard for your money and you paid yo...       1"
      ]
     },
     "execution_count": 7,
     "metadata": {},
     "output_type": "execute_result"
    }
   ],
   "source": [
    "print(pol_train.head(10))\n",
    "pol_ratechange(pol_train)\n",
    "pol_train.head(10)"
   ]
  },
  {
   "cell_type": "code",
   "execution_count": 8,
   "metadata": {},
   "outputs": [
    {
     "name": "stdout",
     "output_type": "stream",
     "text": [
      "                                           Statement  Rating\n",
      "0  About 47 percent of able-bodied people in the ...       5\n",
      "1  Almost 88,000 United States service members ar...       1\n",
      "2  Crimea became part of Ukraine only in 1954. Cr...       0\n",
      "3  some [states] with the largest reductions in c...       0\n",
      "4  Every major city which has a center of poverty...       3\n",
      "5     You cant put a gun rack in a [Chevrolet] Volt.       4\n",
      "6  (Obamacare) is a bill which has never once had...       1\n",
      "7  On the day of the New Hampshire primary in 198...       1\n",
      "8  I balanced the budget for four straight years,...       4\n",
      "9  Gangs have increased by 40 percent since this ...       2\n"
     ]
    },
    {
     "data": {
      "text/html": [
       "<div>\n",
       "<style scoped>\n",
       "    .dataframe tbody tr th:only-of-type {\n",
       "        vertical-align: middle;\n",
       "    }\n",
       "\n",
       "    .dataframe tbody tr th {\n",
       "        vertical-align: top;\n",
       "    }\n",
       "\n",
       "    .dataframe thead th {\n",
       "        text-align: right;\n",
       "    }\n",
       "</style>\n",
       "<table border=\"1\" class=\"dataframe\">\n",
       "  <thead>\n",
       "    <tr style=\"text-align: right;\">\n",
       "      <th></th>\n",
       "      <th>Statement</th>\n",
       "      <th>Rating</th>\n",
       "    </tr>\n",
       "  </thead>\n",
       "  <tbody>\n",
       "    <tr>\n",
       "      <th>0</th>\n",
       "      <td>About 47 percent of able-bodied people in the ...</td>\n",
       "      <td>0</td>\n",
       "    </tr>\n",
       "    <tr>\n",
       "      <th>1</th>\n",
       "      <td>Almost 88,000 United States service members ar...</td>\n",
       "      <td>1</td>\n",
       "    </tr>\n",
       "    <tr>\n",
       "      <th>2</th>\n",
       "      <td>Crimea became part of Ukraine only in 1954. Cr...</td>\n",
       "      <td>1</td>\n",
       "    </tr>\n",
       "    <tr>\n",
       "      <th>3</th>\n",
       "      <td>some [states] with the largest reductions in c...</td>\n",
       "      <td>1</td>\n",
       "    </tr>\n",
       "    <tr>\n",
       "      <th>4</th>\n",
       "      <td>Every major city which has a center of poverty...</td>\n",
       "      <td>0</td>\n",
       "    </tr>\n",
       "    <tr>\n",
       "      <th>5</th>\n",
       "      <td>You cant put a gun rack in a [Chevrolet] Volt.</td>\n",
       "      <td>0</td>\n",
       "    </tr>\n",
       "    <tr>\n",
       "      <th>6</th>\n",
       "      <td>(Obamacare) is a bill which has never once had...</td>\n",
       "      <td>1</td>\n",
       "    </tr>\n",
       "    <tr>\n",
       "      <th>7</th>\n",
       "      <td>On the day of the New Hampshire primary in 198...</td>\n",
       "      <td>1</td>\n",
       "    </tr>\n",
       "    <tr>\n",
       "      <th>8</th>\n",
       "      <td>I balanced the budget for four straight years,...</td>\n",
       "      <td>0</td>\n",
       "    </tr>\n",
       "    <tr>\n",
       "      <th>9</th>\n",
       "      <td>Gangs have increased by 40 percent since this ...</td>\n",
       "      <td>1</td>\n",
       "    </tr>\n",
       "  </tbody>\n",
       "</table>\n",
       "</div>"
      ],
      "text/plain": [
       "                                           Statement  Rating\n",
       "0  About 47 percent of able-bodied people in the ...       0\n",
       "1  Almost 88,000 United States service members ar...       1\n",
       "2  Crimea became part of Ukraine only in 1954. Cr...       1\n",
       "3  some [states] with the largest reductions in c...       1\n",
       "4  Every major city which has a center of poverty...       0\n",
       "5     You cant put a gun rack in a [Chevrolet] Volt.       0\n",
       "6  (Obamacare) is a bill which has never once had...       1\n",
       "7  On the day of the New Hampshire primary in 198...       1\n",
       "8  I balanced the budget for four straight years,...       0\n",
       "9  Gangs have increased by 40 percent since this ...       1"
      ]
     },
     "execution_count": 8,
     "metadata": {},
     "output_type": "execute_result"
    }
   ],
   "source": [
    "print(pol_test.head(10))\n",
    "pol_ratechange(pol_test)\n",
    "pol_test.head(10)"
   ]
  },
  {
   "cell_type": "code",
   "execution_count": 9,
   "metadata": {},
   "outputs": [
    {
     "name": "stdout",
     "output_type": "stream",
     "text": [
      "                                             Statement  Rating\n",
      "707  For every $1 spent on mitigation, $4 in post-s...       1\n",
      "708  Portland Schools spend $500K to deem PB&J sand...       0\n",
      "709  The substitute budget now adds in tax breaks a...       1\n",
      "710  There is nothing in the current state public r...       1\n",
      "711  We've had 27 (Ebola) outbreaks around the glob...       1\n",
      "712\n",
      "                                              Statement  Rating\n",
      "2571  Of all the illegals in America, more than half...       0\n",
      "2572  We have drawn down to presurge levels. Basra, ...       0\n",
      "2573  Obama, Biden and their liberal allies oppose c...       0\n",
      "2574  The failings in our civil service are encourag...       1\n",
      "2575  Senator Obama thinks we can achieve energy ind...       1\n",
      "2576\n",
      "                                              Statement  Rating\n",
      "1070  Two-thirds of Wisconsin corporations don't pay...       1\n",
      "1071  Of the 25 wealthiest nations, we're the only o...       1\n",
      "1072  Minnesota is kicking butt relative to Wisconsi...       1\n",
      "1073  What is the maximum number of students allowed...       1\n",
      "1074  We had people that were getting killed (in Ben...       0\n",
      "1075\n"
     ]
    }
   ],
   "source": [
    "#checking the politifact data\n",
    "\n",
    "print(pol_dev.tail(5))\n",
    "print(pol_dev.Rating .size)\n",
    "print(pol_train.tail(5))\n",
    "print(pol_train.Rating .size)\n",
    "print(pol_test.tail(5))\n",
    "print(pol_test.Rating .size)\n"
   ]
  },
  {
   "cell_type": "code",
   "execution_count": 10,
   "metadata": {},
   "outputs": [],
   "source": [
    "#writing clean politifact in clean folder\n",
    "\n",
    "pol_dev.to_csv('clean datasets/pol_dev_clean.csv',index=False)\n",
    "pol_train.to_csv('clean datasets/pol_train_clean.csv',index=False)\n",
    "pol_test.to_csv('clean datasets/pol_test_clean.csv',index=False)\n",
    "\n",
    "#POl is done :)"
   ]
  },
  {
   "cell_type": "code",
   "execution_count": 11,
   "metadata": {},
   "outputs": [
    {
     "name": "stdout",
     "output_type": "stream",
     "text": [
      "Index(['label', 'text'], dtype='object')\n",
      "Index(['Rating', 'Statement'], dtype='object')\n",
      "48853\n",
      "2999\n"
     ]
    }
   ],
   "source": [
    "#onto reading Newsfiles\n",
    "\n",
    "nf_train=pd.read_csv('unclean datasets/nf_train.csv')\n",
    "nf_test=pd.read_csv('unclean datasets/nf_test.csv')\n",
    "\n",
    "#renaming columns so easier joining\n",
    "print(nf_train.columns)\n",
    "nf_train=nf_train.rename(columns={\"label\": \"Rating\", \"text\": \"Statement\"})\n",
    "nf_test=nf_test.rename(columns={\"label\": \"Rating\", \"text\": \"Statement\"})\n",
    "print(nf_train.columns)\n",
    "print(nf_train.Statement.size)\n",
    "print(nf_test.Statement.size)"
   ]
  },
  {
   "cell_type": "code",
   "execution_count": 12,
   "metadata": {},
   "outputs": [],
   "source": [
    "#Ratings are as follows 1:\"Satire\",2:\"Hoax\",3:\"Propaganda\",4:\"Trusted\"\n",
    "#Change Hoax to False(0) and Trusted to True(1) and remove Satire and Propaganda\n",
    "\n",
    "def nf_ratechange(x):\n",
    "    h=0\n",
    "    for i in x.Rating:\n",
    "        if i==2:\n",
    "            x.at[h,'Rating']= 0\n",
    "            \n",
    "        elif i==4:\n",
    "            x.at[h,'Rating']= 1\n",
    "            \n",
    "        elif i==1 or i==3:\n",
    "            x.drop([h],inplace=True)\n",
    "        h=h+1\n",
    "        \n"
   ]
  },
  {
   "cell_type": "code",
   "execution_count": 13,
   "metadata": {},
   "outputs": [
    {
     "name": "stdout",
     "output_type": "stream",
     "text": [
      "   Rating                                          Statement\n",
      "0       1   In what football insiders are calling an unex...\n",
      "1       1  In a freak accident following Game 3 of the N....\n",
      "2       1  North Koreas official news agency announced to...\n",
      "3       1  The former Alaska Governor Sarah Palin would b...\n",
      "4       1  With the first Presidential debate just two da...\n",
      "5       1  There are fans, and then there are super-fans....\n",
      "6       1  With its landmark decisions this week, the Uni...\n",
      "7       1  Koch Industries is defending its acquisition o...\n",
      "8       1  Republican lawmakers asked increasingly tough ...\n",
      "9       1   In a poll taken on Tuesday night, a wide majo...\n",
      "2999\n",
      "1500\n"
     ]
    },
    {
     "data": {
      "text/html": [
       "<div>\n",
       "<style scoped>\n",
       "    .dataframe tbody tr th:only-of-type {\n",
       "        vertical-align: middle;\n",
       "    }\n",
       "\n",
       "    .dataframe tbody tr th {\n",
       "        vertical-align: top;\n",
       "    }\n",
       "\n",
       "    .dataframe thead th {\n",
       "        text-align: right;\n",
       "    }\n",
       "</style>\n",
       "<table border=\"1\" class=\"dataframe\">\n",
       "  <thead>\n",
       "    <tr style=\"text-align: right;\">\n",
       "      <th></th>\n",
       "      <th>Rating</th>\n",
       "      <th>Statement</th>\n",
       "    </tr>\n",
       "  </thead>\n",
       "  <tbody>\n",
       "    <tr>\n",
       "      <th>749</th>\n",
       "      <td>0</td>\n",
       "      <td>Ferguson Protesters Take Advantage Of Cop-Invo...</td>\n",
       "    </tr>\n",
       "    <tr>\n",
       "      <th>750</th>\n",
       "      <td>0</td>\n",
       "      <td>Vote Rigging Is Real And Practically Undetecta...</td>\n",
       "    </tr>\n",
       "    <tr>\n",
       "      <th>751</th>\n",
       "      <td>0</td>\n",
       "      <td>Judge Napolitano Weighs In On How The Democrat...</td>\n",
       "    </tr>\n",
       "    <tr>\n",
       "      <th>752</th>\n",
       "      <td>0</td>\n",
       "      <td>Missing Babys Body Found In Dumpster The suspe...</td>\n",
       "    </tr>\n",
       "    <tr>\n",
       "      <th>753</th>\n",
       "      <td>0</td>\n",
       "      <td>Allen West Credits Obama - Made One Of The Dum...</td>\n",
       "    </tr>\n",
       "    <tr>\n",
       "      <th>754</th>\n",
       "      <td>0</td>\n",
       "      <td>Petitions Protestors Didnt Stop Maher From Spe...</td>\n",
       "    </tr>\n",
       "    <tr>\n",
       "      <th>755</th>\n",
       "      <td>0</td>\n",
       "      <td>Freed Slaves In Washington? Dont Blame Us We W...</td>\n",
       "    </tr>\n",
       "    <tr>\n",
       "      <th>756</th>\n",
       "      <td>0</td>\n",
       "      <td>Expect Electronic Machines To Be Hacked, Be Pr...</td>\n",
       "    </tr>\n",
       "    <tr>\n",
       "      <th>757</th>\n",
       "      <td>0</td>\n",
       "      <td>The Donald Responds To Lyin Ted Cruz Accusatio...</td>\n",
       "    </tr>\n",
       "    <tr>\n",
       "      <th>758</th>\n",
       "      <td>0</td>\n",
       "      <td>Michele Bachmann - Johnson, Obama Want To Stea...</td>\n",
       "    </tr>\n",
       "  </tbody>\n",
       "</table>\n",
       "</div>"
      ],
      "text/plain": [
       "     Rating                                          Statement\n",
       "749       0  Ferguson Protesters Take Advantage Of Cop-Invo...\n",
       "750       0  Vote Rigging Is Real And Practically Undetecta...\n",
       "751       0  Judge Napolitano Weighs In On How The Democrat...\n",
       "752       0  Missing Babys Body Found In Dumpster The suspe...\n",
       "753       0  Allen West Credits Obama - Made One Of The Dum...\n",
       "754       0  Petitions Protestors Didnt Stop Maher From Spe...\n",
       "755       0  Freed Slaves In Washington? Dont Blame Us We W...\n",
       "756       0  Expect Electronic Machines To Be Hacked, Be Pr...\n",
       "757       0  The Donald Responds To Lyin Ted Cruz Accusatio...\n",
       "758       0  Michele Bachmann - Johnson, Obama Want To Stea..."
      ]
     },
     "execution_count": 13,
     "metadata": {},
     "output_type": "execute_result"
    }
   ],
   "source": [
    "#For testing dataset\n",
    "print(nf_test.head(10))\n",
    "print(nf_test.Rating.size)\n",
    "nf_ratechange(nf_test)\n",
    "print(nf_test.Rating.size)\n",
    "nf_test.head(10)\n"
   ]
  },
  {
   "cell_type": "code",
   "execution_count": 14,
   "metadata": {},
   "outputs": [
    {
     "name": "stdout",
     "output_type": "stream",
     "text": [
      "   Rating                                          Statement\n",
      "0       1  The writers of the HBO series The Sopranos too...\n",
      "1       1  Despite claims from the TV news outlet to offe...\n",
      "2       1  After receiving 'subpar' service and experienc...\n",
      "3       1  After watching his beloved Seattle Mariners pr...\n",
      "4       1  At a cafeteria-table press conference Monday, ...\n",
      "5       1  Stunned shock and dismay were just a few of th...\n",
      "6       1  Speaking with reporters before a game Monday, ...\n",
      "7       1  Sports journalists and television crews were p...\n",
      "8       1  SALEM, VAF;or the eighth straight world-histor...\n",
      "9       1  Marveling at his extraordinary proficiency in ...\n",
      "48853\n",
      "16937\n"
     ]
    },
    {
     "data": {
      "text/html": [
       "<div>\n",
       "<style scoped>\n",
       "    .dataframe tbody tr th:only-of-type {\n",
       "        vertical-align: middle;\n",
       "    }\n",
       "\n",
       "    .dataframe tbody tr th {\n",
       "        vertical-align: top;\n",
       "    }\n",
       "\n",
       "    .dataframe thead th {\n",
       "        text-align: right;\n",
       "    }\n",
       "</style>\n",
       "<table border=\"1\" class=\"dataframe\">\n",
       "  <thead>\n",
       "    <tr style=\"text-align: right;\">\n",
       "      <th></th>\n",
       "      <th>Rating</th>\n",
       "      <th>Statement</th>\n",
       "    </tr>\n",
       "  </thead>\n",
       "  <tbody>\n",
       "    <tr>\n",
       "      <th>14046</th>\n",
       "      <td>0</td>\n",
       "      <td>Ralph Peters Is Suspended By Fox News After Ve...</td>\n",
       "    </tr>\n",
       "    <tr>\n",
       "      <th>14047</th>\n",
       "      <td>0</td>\n",
       "      <td>Michelle Obama Picks A Fight With Donald, He F...</td>\n",
       "    </tr>\n",
       "    <tr>\n",
       "      <th>14048</th>\n",
       "      <td>0</td>\n",
       "      <td>Analyst Observes Something VERY Off About Trum...</td>\n",
       "    </tr>\n",
       "    <tr>\n",
       "      <th>14049</th>\n",
       "      <td>0</td>\n",
       "      <td>Marine Completely DESTROYS Michelle Obama To H...</td>\n",
       "    </tr>\n",
       "    <tr>\n",
       "      <th>14050</th>\n",
       "      <td>0</td>\n",
       "      <td>Youll Never Believe The Excuse This Mother Gav...</td>\n",
       "    </tr>\n",
       "    <tr>\n",
       "      <th>14051</th>\n",
       "      <td>0</td>\n",
       "      <td>MLKs Niece Takes Goes Up Against All Odds, Tak...</td>\n",
       "    </tr>\n",
       "    <tr>\n",
       "      <th>14052</th>\n",
       "      <td>0</td>\n",
       "      <td>Caitlyn Jenner Honored As Woman Of The Year Ju...</td>\n",
       "    </tr>\n",
       "    <tr>\n",
       "      <th>14053</th>\n",
       "      <td>0</td>\n",
       "      <td>BREAKING: New Years Suicide Bomber Terror Ensu...</td>\n",
       "    </tr>\n",
       "    <tr>\n",
       "      <th>14054</th>\n",
       "      <td>0</td>\n",
       "      <td>Congress Comes Crashing Down After Obama Accid...</td>\n",
       "    </tr>\n",
       "    <tr>\n",
       "      <th>14055</th>\n",
       "      <td>0</td>\n",
       "      <td>Vets Line Up And Salute, Look Who Walks In Beh...</td>\n",
       "    </tr>\n",
       "  </tbody>\n",
       "</table>\n",
       "</div>"
      ],
      "text/plain": [
       "       Rating                                          Statement\n",
       "14046       0  Ralph Peters Is Suspended By Fox News After Ve...\n",
       "14047       0  Michelle Obama Picks A Fight With Donald, He F...\n",
       "14048       0  Analyst Observes Something VERY Off About Trum...\n",
       "14049       0  Marine Completely DESTROYS Michelle Obama To H...\n",
       "14050       0  Youll Never Believe The Excuse This Mother Gav...\n",
       "14051       0  MLKs Niece Takes Goes Up Against All Odds, Tak...\n",
       "14052       0  Caitlyn Jenner Honored As Woman Of The Year Ju...\n",
       "14053       0  BREAKING: New Years Suicide Bomber Terror Ensu...\n",
       "14054       0  Congress Comes Crashing Down After Obama Accid...\n",
       "14055       0  Vets Line Up And Salute, Look Who Walks In Beh..."
      ]
     },
     "execution_count": 14,
     "metadata": {},
     "output_type": "execute_result"
    }
   ],
   "source": [
    "#for training dataset\n",
    "\n",
    "print(nf_train.head(10))\n",
    "print(nf_train.Rating.size)\n",
    "nf_ratechange(nf_train)\n",
    "print(nf_train.Rating.size)\n",
    "nf_train.head(10)\n"
   ]
  },
  {
   "cell_type": "code",
   "execution_count": 15,
   "metadata": {},
   "outputs": [
    {
     "name": "stdout",
     "output_type": "stream",
     "text": [
      "new size of nf_test :  1500\n",
      "new size of nf_train :  16937\n"
     ]
    }
   ],
   "source": [
    "print(\"new size of nf_test : \",nf_test.Rating.size)\n",
    "print(\"new size of nf_train : \",nf_train.Rating.size)"
   ]
  },
  {
   "cell_type": "code",
   "execution_count": 16,
   "metadata": {},
   "outputs": [],
   "source": [
    "#writing clean Nf datasets to the clean folder\n",
    "\n",
    "nf_test.to_csv('clean datasets/nf_test_clean.csv',index=False)\n",
    "nf_train.to_csv('clean datasets/nf_train_clean.csv',index=False)\n",
    "\n",
    "# done and dusted"
   ]
  },
  {
   "cell_type": "code",
   "execution_count": 17,
   "metadata": {},
   "outputs": [
    {
     "name": "stdout",
     "output_type": "stream",
     "text": [
      "17962\n",
      "140098\n",
      "17136\n",
      "Index(['ID', 'label', 'statement', 'subject', 'speaker', 'speaker job',\n",
      "       'stateinfo', 'party', 'ch1', 'ch2', 'ch3', 'ch4', 'ch5', 'ch6'],\n",
      "      dtype='object')\n"
     ]
    }
   ],
   "source": [
    "#unto the LIAR dataset\n",
    "#reading the said dataset \n",
    "\n",
    "liar_dev=pd.read_csv('unclean datasets/liar_dev.csv')\n",
    "liar_train=pd.read_csv('unclean datasets/liar_train.csv')\n",
    "liar_test=pd.read_csv('unclean datasets/liar_test.csv')\n",
    "\n",
    "print(liar_dev.size)\n",
    "print(liar_train.size)\n",
    "print(liar_test.size)\n",
    "\n",
    "print(liar_dev.columns)"
   ]
  },
  {
   "cell_type": "code",
   "execution_count": 18,
   "metadata": {},
   "outputs": [
    {
     "name": "stdout",
     "output_type": "stream",
     "text": [
      "Index(['label', 'statement'], dtype='object') Index(['label', 'statement'], dtype='object') Index(['label', 'statement'], dtype='object')\n"
     ]
    }
   ],
   "source": [
    "#so many columns must me removed  :/\n",
    "\n",
    "liar_dev=liar_dev.drop(columns=['ID', 'subject', 'speaker', 'speaker job',\n",
    "       'stateinfo', 'party', 'ch1', 'ch2', 'ch3', 'ch4', 'ch5', 'ch6'])\n",
    "liar_train=liar_train.drop(columns=['ID', 'subject', 'speaker', 'speaker job',\n",
    "       'stateinfo', 'party', 'ch1', 'ch2', 'ch3', 'ch4', 'ch5', 'ch6'])\n",
    "liar_test=liar_test.drop(columns=['ID', 'subject', 'speaker', 'speaker job',\n",
    "       'stateinfo', 'party', 'ch1', 'ch2', 'ch3', 'ch4', 'ch5', 'ch6'])\n",
    "\n",
    "print(liar_dev.columns,liar_test.columns,liar_train.columns)\n"
   ]
  },
  {
   "cell_type": "code",
   "execution_count": 19,
   "metadata": {},
   "outputs": [
    {
     "name": "stdout",
     "output_type": "stream",
     "text": [
      "Index(['Rating', 'Statement'], dtype='object') Index(['Rating', 'Statement'], dtype='object') Index(['Rating', 'Statement'], dtype='object')\n"
     ]
    }
   ],
   "source": [
    "#renaming the columns for consistency\n",
    "\n",
    "liar_train=liar_train.rename(columns={\"label\": \"Rating\", \"statement\": \"Statement\"})\n",
    "liar_test=liar_test.rename(columns={\"label\": \"Rating\", \"statement\": \"Statement\"})\n",
    "liar_dev=liar_dev.rename(columns={\"label\": \"Rating\", \"statement\": \"Statement\"})\n",
    "\n",
    "print(liar_dev.columns,liar_test.columns,liar_train.columns)\n"
   ]
  },
  {
   "cell_type": "code",
   "execution_count": 20,
   "metadata": {},
   "outputs": [],
   "source": [
    "# rating here ranges from true to pants-fire which must be changed to the designated True-false(1-0)\n",
    "from random import seed\n",
    "seed(1010)\n",
    "from random import randint\n",
    "def liar_ratechange(x):\n",
    "    h=0\n",
    "    for i in x.Rating:\n",
    "        if i==\"true\" or i==\"barely-true\":\n",
    "            x.at[h,'Rating']= 1\n",
    "            h=h+1\n",
    "        elif i==\"half-true\": #50 percent chance for half truth\n",
    "            r=randint(1,10)\n",
    "            if(r<=5):\n",
    "                x.at[h,'Rating']= 1\n",
    "            else:\n",
    "                x.at[h,'Rating']= 0\n",
    "            h=h+1\n",
    "        else:\n",
    "            x.at[h,'Rating']= 0\n",
    "            h=h+1\n"
   ]
  },
  {
   "cell_type": "code",
   "execution_count": 21,
   "metadata": {},
   "outputs": [
    {
     "name": "stdout",
     "output_type": "stream",
     "text": [
      "           Rating                                          Statement\n",
      "1278    half-true  For the first time in more than a decade, impo...\n",
      "1279  mostly-true  Says Donald Trump has bankrupted his companies...\n",
      "1280         true  John McCain and George Bush have \"absolutely n...\n",
      "1281        false  A new poll shows 62 percent support the presid...\n",
      "1282  barely-true  No one claims the report vindicating New Jerse...\n",
      "     Rating                                          Statement\n",
      "1278      1  For the first time in more than a decade, impo...\n",
      "1279      0  Says Donald Trump has bankrupted his companies...\n",
      "1280      1  John McCain and George Bush have \"absolutely n...\n",
      "1281      0  A new poll shows 62 percent support the presid...\n",
      "1282      1  No one claims the report vindicating New Jerse...\n"
     ]
    }
   ],
   "source": [
    "print(liar_dev.tail())\n",
    "liar_ratechange(liar_dev)\n",
    "print(liar_dev.tail())\n",
    "\n"
   ]
  },
  {
   "cell_type": "code",
   "execution_count": 22,
   "metadata": {},
   "outputs": [
    {
     "name": "stdout",
     "output_type": "stream",
     "text": [
      "       Rating                                          Statement\n",
      "0       false  Wisconsin is on pace to double the number of l...\n",
      "1       false  Says John McCain has done nothing to help the ...\n",
      "2   half-true  Suzanne Bonamici supports a plan that will cut...\n",
      "3  pants-fire  When asked by a reporter whether hes at the ce...\n",
      "4        true  Over the past five years the federal governmen...\n",
      "  Rating                                          Statement\n",
      "0      0  Wisconsin is on pace to double the number of l...\n",
      "1      0  Says John McCain has done nothing to help the ...\n",
      "2      0  Suzanne Bonamici supports a plan that will cut...\n",
      "3      0  When asked by a reporter whether hes at the ce...\n",
      "4      1  Over the past five years the federal governmen...\n"
     ]
    }
   ],
   "source": [
    "print(liar_test.head())\n",
    "liar_ratechange(liar_test)\n",
    "print(liar_test.head())\n"
   ]
  },
  {
   "cell_type": "code",
   "execution_count": 23,
   "metadata": {},
   "outputs": [
    {
     "name": "stdout",
     "output_type": "stream",
     "text": [
      "        Rating                                          Statement\n",
      "0    half-true  When did the decline of coal start? It started...\n",
      "1  mostly-true  Hillary Clinton agrees with John McCain \"by vo...\n",
      "2        false  Health care reform legislation is likely to ma...\n",
      "3    half-true  The economic turnaround started at the end of ...\n",
      "4         true  The Chicago Bears have had more starting quart...\n",
      "  Rating                                          Statement\n",
      "0      0  When did the decline of coal start? It started...\n",
      "1      0  Hillary Clinton agrees with John McCain \"by vo...\n",
      "2      0  Health care reform legislation is likely to ma...\n",
      "3      1  The economic turnaround started at the end of ...\n",
      "4      1  The Chicago Bears have had more starting quart...\n"
     ]
    }
   ],
   "source": [
    "print(liar_train.head())\n",
    "liar_ratechange(liar_train)\n",
    "print(liar_train.head())\n"
   ]
  },
  {
   "cell_type": "code",
   "execution_count": 24,
   "metadata": {},
   "outputs": [],
   "source": [
    "#writing clean datasets :)\n",
    "\n",
    "liar_dev.to_csv('clean datasets/liar_dev_clean.csv',index=False)\n",
    "liar_train.to_csv('clean datasets/liar_train_clean.csv',index=False)\n",
    "liar_test.to_csv('clean datasets/liar_test_clean.csv',index=False)\n",
    "\n",
    "#PHEW, ALl DATASETS ARE CLEANED AND CONSISTENT"
   ]
  },
  {
   "cell_type": "code",
   "execution_count": 25,
   "metadata": {},
   "outputs": [],
   "source": [
    "#merging of datasets\n",
    "filenames = ['clean datasets/liar_dev_clean.csv','clean datasets/liar_test_clean.csv','clean datasets/liar_train_clean.csv','clean datasets/nf_train_clean.csv','clean datasets/nf_test_clean.csv','clean datasets/pol_dev_clean.csv','clean datasets/pol_test_clean.csv','clean datasets/pol_train_clean.csv']\n",
    "combined_csv = pd.concat( [ pd.read_csv(f) for f in filenames ],sort=True )\n",
    "combined_csv.to_csv( \"Megaset.csv\", index=False )\n"
   ]
  },
  {
   "cell_type": "code",
   "execution_count": 28,
   "metadata": {},
   "outputs": [
    {
     "name": "stdout",
     "output_type": "stream",
     "text": [
      "Megaset size 70628\n",
      "Megaset :     Rating                                          Statement\n",
      "0       0  When Obama was sworn into office, he DID NOT u...\n",
      "1       0  Says Having organizations parading as being so...\n",
      "2       0     Says nearly half of Oregons children are poor.\n",
      "3       1  On attacks by Republicans that various program...\n",
      "4       0  Says when armed civilians stop mass shootings ...\n",
      "Columns :  Index(['Rating', 'Statement'], dtype='object')\n",
      "Number of true statements :  18814\n",
      "Number of false statements :  16500\n"
     ]
    }
   ],
   "source": [
    "#FINAL DATASET STATS\n",
    "\n",
    "megaset=pd.read_csv('Megaset.csv')\n",
    "print(\"Megaset size\",megaset.size)\n",
    "print(\"Megaset : \",megaset.head())\n",
    "print(\"Columns : \",megaset.columns)\n",
    "\n",
    "t=0\n",
    "f=0\n",
    "for i in megaset.Rating:\n",
    "    if i==1:\n",
    "        t=t+1\n",
    "    else:\n",
    "        f=f+1\n",
    "print(\"Number of true statements : \",t)\n",
    "print(\"Number of false statements : \",f)\n"
   ]
  },
  {
   "cell_type": "code",
   "execution_count": 29,
   "metadata": {},
   "outputs": [
    {
     "data": {
      "text/html": [
       "<div>\n",
       "<style scoped>\n",
       "    .dataframe tbody tr th:only-of-type {\n",
       "        vertical-align: middle;\n",
       "    }\n",
       "\n",
       "    .dataframe tbody tr th {\n",
       "        vertical-align: top;\n",
       "    }\n",
       "\n",
       "    .dataframe thead th {\n",
       "        text-align: right;\n",
       "    }\n",
       "</style>\n",
       "<table border=\"1\" class=\"dataframe\">\n",
       "  <thead>\n",
       "    <tr style=\"text-align: right;\">\n",
       "      <th></th>\n",
       "      <th>Rating</th>\n",
       "    </tr>\n",
       "  </thead>\n",
       "  <tbody>\n",
       "    <tr>\n",
       "      <th>count</th>\n",
       "      <td>35314.000000</td>\n",
       "    </tr>\n",
       "    <tr>\n",
       "      <th>mean</th>\n",
       "      <td>0.532763</td>\n",
       "    </tr>\n",
       "    <tr>\n",
       "      <th>std</th>\n",
       "      <td>0.498932</td>\n",
       "    </tr>\n",
       "    <tr>\n",
       "      <th>min</th>\n",
       "      <td>0.000000</td>\n",
       "    </tr>\n",
       "    <tr>\n",
       "      <th>25%</th>\n",
       "      <td>0.000000</td>\n",
       "    </tr>\n",
       "    <tr>\n",
       "      <th>50%</th>\n",
       "      <td>1.000000</td>\n",
       "    </tr>\n",
       "    <tr>\n",
       "      <th>75%</th>\n",
       "      <td>1.000000</td>\n",
       "    </tr>\n",
       "    <tr>\n",
       "      <th>max</th>\n",
       "      <td>1.000000</td>\n",
       "    </tr>\n",
       "  </tbody>\n",
       "</table>\n",
       "</div>"
      ],
      "text/plain": [
       "             Rating\n",
       "count  35314.000000\n",
       "mean       0.532763\n",
       "std        0.498932\n",
       "min        0.000000\n",
       "25%        0.000000\n",
       "50%        1.000000\n",
       "75%        1.000000\n",
       "max        1.000000"
      ]
     },
     "execution_count": 29,
     "metadata": {},
     "output_type": "execute_result"
    }
   ],
   "source": [
    "megaset.describe()\n"
   ]
  }
 ],
 "metadata": {
  "kernelspec": {
   "display_name": "Python 3",
   "language": "python",
   "name": "python3"
  },
  "language_info": {
   "codemirror_mode": {
    "name": "ipython",
    "version": 3
   },
   "file_extension": ".py",
   "mimetype": "text/x-python",
   "name": "python",
   "nbconvert_exporter": "python",
   "pygments_lexer": "ipython3",
   "version": "3.7.1"
  }
 },
 "nbformat": 4,
 "nbformat_minor": 2
}
