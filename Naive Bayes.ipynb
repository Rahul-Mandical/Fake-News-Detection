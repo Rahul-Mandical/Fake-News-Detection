{
 "cells": [
  {
   "cell_type": "code",
   "execution_count": 1,
   "metadata": {},
   "outputs": [
    {
     "data": {
      "text/plain": [
       "'\\n\\nTO-DO : Create a model based on Naive Bayes. Train the model and optimize it over dev. Final testing done on test dataset.\\n    Importing  vectorization for the vectorized values\\n    Check with both TFIDF and Hash vectorization\\n    Output with both Normalized and dis-normalized? Un-normalized? non-normalized? :/\\n    This shall contain multinomial NB. Please read \"Readme\" for other algorithms.\\n    \\n    Summary of the model : Accuracy is with respect to \"dev\"\\n        ------------------------------\\n        Model Name: clb/clb_lap\\n        Algorithm : Naive Bayers - TFIDF MultinomialNB\\n        Time to train : 0.067\\n        Accuracy : 0.76\\n        Accuracy with smoothing:0.77293\\n        -------------------------------\\n        \\n        ------------------------------\\n        Model Name: clf/clf_lap\\n        Algorithm : Naive Bayers - Hash MultinomialNB\\n        Time to train : 0.112\\n        Accuracy : 0.77\\n        Accuracy with smoothing:0.75453\\n        -------------------------------\\n        \\n            \\n'"
      ]
     },
     "execution_count": 1,
     "metadata": {},
     "output_type": "execute_result"
    }
   ],
   "source": [
    "\"\"\"\n",
    "\n",
    "TO-DO : Create a model based on Naive Bayes. Train the model and optimize it over dev. Final testing done on test dataset.\n",
    "    Importing  vectorization for the vectorized values\n",
    "    Check with both TFIDF and Hash vectorization\n",
    "    This shall contain multinomial NB. Please read \"Readme\" for other algorithms.\n",
    "    \n",
    "    Summary of the model : Accuracy is with respect to \"dev\"\n",
    "        ------------------------------\n",
    "        Model Name: clb/clb_lap\n",
    "        Algorithm : Naive Bayers - TFIDF MultinomialNB\n",
    "        Time to train : 0.067\n",
    "        Accuracy : 0.76\n",
    "        Accuracy with smoothing:0.77293\n",
    "        -------------------------------\n",
    "        \n",
    "        ------------------------------\n",
    "        Model Name: clf/clf_lap\n",
    "        Algorithm : Naive Bayers - Hash MultinomialNB\n",
    "        Time to train : 0.112\n",
    "        Accuracy : 0.77\n",
    "        Accuracy with smoothing:0.75453\n",
    "        -------------------------------\n",
    "\n",
    "Rahul's Intuition : The relatively low training accuracy of these models can suggest high bias i.e underfitting.\n",
    "                    Not sure how to fix that.\n",
    "            \n",
    "\"\"\""
   ]
  },
  {
   "cell_type": "code",
   "execution_count": 2,
   "metadata": {},
   "outputs": [
    {
     "name": "stdout",
     "output_type": "stream",
     "text": [
      "importing Jupyter notebook from Vectorization.ipynb\n",
      "importing Jupyter notebook from Dataset_Preprocessing_2.ipynb\n",
      "Megaset size 70628\n",
      "Columns :  Index(['Rating', 'Statement'], dtype='object')\n",
      "Number of true statements :  18814\n",
      "Number of false statements :  16500\n",
      "(35314,)\n",
      "(35314,)\n",
      "31782\n",
      "3532\n",
      "28250\n",
      "3532\n",
      "<class 'pandas.core.series.Series'>\n",
      "Final size of train/dev/test :  28250 / 3532 / 3532\n",
      "28250\n",
      "(28250,)\n",
      "<class 'pandas.core.series.Series'>\n",
      "(28250,)\n"
     ]
    }
   ],
   "source": [
    "import pandas as pd\n",
    "import import_ipynb\n",
    "import Vectorization as v\n",
    "import time\n",
    "from sklearn import metrics\n",
    "from sklearn.metrics import confusion_matrix\n",
    "from sklearn.naive_bayes import MultinomialNB\n",
    "from matplotlib import pyplot as plt\n",
    "\n"
   ]
  },
  {
   "cell_type": "code",
   "execution_count": 3,
   "metadata": {},
   "outputs": [],
   "source": [
    "#Storing tfidf variables for the model\n",
    "\n",
    "tfidf_mega_train_x = v.tfidf_mega_train_x\n",
    "tfidf_mega_dev_x = v.tfidf_mega_dev_x\n",
    "tfidf_mega_test_x = v.tfidf_mega_test_x\n",
    "\n",
    "#tfidf_mega_train_y= v.tfidf_mega_train_y\n",
    "#tfidf_mega_dev_y= v.tfidf_mega_dev_y\n",
    "#tfidf_mega_test_y= v.tfidf_mega_test_y\n",
    "\n",
    "mega_train_y=v.mega_train_y\n",
    "mega_dev_y=v.mega_dev_y\n"
   ]
  },
  {
   "cell_type": "code",
   "execution_count": 4,
   "metadata": {},
   "outputs": [],
   "source": [
    "#print(tfidf_mega_train_x.shape)\n",
    "#print(tfidf_mega_train_y.shape)"
   ]
  },
  {
   "cell_type": "code",
   "execution_count": 5,
   "metadata": {},
   "outputs": [
    {
     "name": "stdout",
     "output_type": "stream",
     "text": [
      "Time Taken to fit and classify : 0.0677952766418457\n",
      "accuracy: 0.7675537938844847\n",
      "Confusion matrix, without normalization\n",
      "[[1104  549]\n",
      " [ 272 1607]]\n"
     ]
    },
    {
     "data": {
      "image/png": "[encoded data removed]",
      "text/plain": [
       "<Figure size 432x288 with 2 Axes>"
      ]
     },
     "metadata": {
      "needs_background": "light"
     },
     "output_type": "display_data"
    }
   ],
   "source": [
    "#--------------------------------------------------------------\n",
    "# Naive Bayes classifier for Multinomial model using tfidf\n",
    "#--------------------------------------------------------------\n",
    "clb = MultinomialNB() \n",
    "\n",
    "start = time.time()\n",
    "\n",
    "clb.fit(tfidf_mega_train_x, mega_train_y)                       # Fit Naive Bayes classifier \n",
    "pred_dev_nb = clb.predict(tfidf_mega_dev_x)                     # Perform classification \n",
    "\n",
    "end = time.time()\n",
    "\n",
    "print(\"Time Taken to fit and classify :\",(end - start))\n",
    "\n",
    "score = metrics.accuracy_score(mega_dev_y, pred_dev_nb)\n",
    "print(\"accuracy:\" ,score)\n",
    "\n",
    "cm = metrics.confusion_matrix(mega_dev_y, pred_dev_nb)\n",
    "v.plot_confusion_matrix(cm, classes=['FAKE', 'REAL'])\n",
    "print(cm)\n",
    "\n",
    "\n",
    "#FIRST MODEL FINALLY BUILT WITH ABYSMAL ACCURACY :(\n"
   ]
  },
  {
   "cell_type": "code",
   "execution_count": 6,
   "metadata": {},
   "outputs": [
    {
     "name": "stdout",
     "output_type": "stream",
     "text": [
      "accuracy: 0.8066902654867256\n",
      "Confusion matrix, without normalization\n",
      "[[ 9633  3547]\n",
      " [ 1914 13156]]\n"
     ]
    },
    {
     "data": {
      "image/png": "[encoded data removed]",
      "text/plain": [
       "<Figure size 432x288 with 2 Axes>"
      ]
     },
     "metadata": {
      "needs_background": "light"
     },
     "output_type": "display_data"
    }
   ],
   "source": [
    "#TRAINING ON TRAIN DATA FOR bias and variance\n",
    "\n",
    "pred_train_nb = clb.predict(tfidf_mega_train_x)                     # Perform classification \n",
    "\n",
    "score = metrics.accuracy_score(mega_train_y, pred_train_nb)\n",
    "print(\"accuracy:\" ,score)\n",
    "\n",
    "cm = metrics.confusion_matrix(mega_train_y, pred_train_nb)\n",
    "v.plot_confusion_matrix(cm, classes=['FAKE', 'REAL'])\n",
    "print(cm)\n",
    "#0.80 accuracy on training is ........ less?"
   ]
  },
  {
   "cell_type": "code",
   "execution_count": 7,
   "metadata": {},
   "outputs": [
    {
     "name": "stdout",
     "output_type": "stream",
     "text": [
      "Alpha: 0.00 Score: 0.73641\n"
     ]
    },
    {
     "name": "stderr",
     "output_type": "stream",
     "text": [
      "C:\\Users\\Rahul\\Anaconda3\\lib\\site-packages\\sklearn\\naive_bayes.py:480: UserWarning: alpha too small will result in numeric errors, setting alpha = 1.0e-10\n",
      "  'setting alpha = %.1e' % _ALPHA_MIN)\n"
     ]
    },
    {
     "name": "stdout",
     "output_type": "stream",
     "text": [
      "Alpha: 0.10 Score: 0.77237\n",
      "Alpha: 0.20 Score: 0.76982\n",
      "Alpha: 0.30 Score: 0.77293\n",
      "Alpha: 0.40 Score: 0.77152\n",
      "Alpha: 0.50 Score: 0.76982\n",
      "Alpha: 0.60 Score: 0.76982\n",
      "Alpha: 0.70 Score: 0.76982\n",
      "Alpha: 0.80 Score: 0.77095\n",
      "Alpha: 0.90 Score: 0.76925\n"
     ]
    }
   ],
   "source": [
    "#---------------------------------------------------------------------------------------------------------------\n",
    "# Naive Bayes classifier for Multinomial model using tfidf with Additive (Laplace/Lidstone) smoothing parameter\n",
    "#---------------------------------------------------------------------------------------------------------------\n",
    "import numpy as np\n",
    "\n",
    "clb_lap = MultinomialNB(alpha=0.1) \n",
    "last_score = 0\n",
    "\n",
    "for alpha in np.arange(0,1,.1):\n",
    "    nb_classifier = MultinomialNB(alpha=alpha)\n",
    "    nb_classifier.fit(tfidf_mega_train_x, mega_train_y)\n",
    "    pred_dev_nbs = nb_classifier.predict(tfidf_mega_dev_x)\n",
    "    score = metrics.accuracy_score(mega_dev_y, pred_dev_nbs)\n",
    "    if score > last_score:\n",
    "        clb_lap = nb_classifier\n",
    "    print(\"Alpha: {:.2f} Score: {:.5f}\".format(alpha, score))\n",
    "    \n",
    "#Best accuracy is at alpha=0.30! "
   ]
  },
  {
   "cell_type": "code",
   "execution_count": 8,
   "metadata": {},
   "outputs": [],
   "source": [
    "#Creating a Naive Bayes model with hashed dataset instead of Tdidf\n",
    "\n",
    "#Storing variables from hash fuction\n",
    "\n",
    "hash_mega_train_x = v.hash_mega_train_x \n",
    "hash_mega_test_x = v.hash_mega_test_x\n",
    "hash_mega_dev_x = v.hash_mega_dev_x \n"
   ]
  },
  {
   "cell_type": "code",
   "execution_count": 9,
   "metadata": {},
   "outputs": [
    {
     "name": "stdout",
     "output_type": "stream",
     "text": [
      "Time Taken to fit and classify : 0.1156919002532959\n",
      "accuracy: 0.7729331823329558\n",
      "Confusion matrix, without normalization\n",
      "[[1220  433]\n",
      " [ 369 1510]]\n"
     ]
    },
    {
     "data": {
      "image/png": "[encoded data removed]",
      "text/plain": [
       "<Figure size 432x288 with 2 Axes>"
      ]
     },
     "metadata": {
      "needs_background": "light"
     },
     "output_type": "display_data"
    }
   ],
   "source": [
    "#--------------------------------------------------------------\n",
    "# Naive Bayes classifier for Multinomial model using hash\n",
    "#--------------------------------------------------------------\n",
    "\n",
    "clf = MultinomialNB(alpha=0.01) \n",
    "\n",
    "start = time.time()\n",
    "\n",
    "clf.fit(hash_mega_train_x, mega_train_y)                       # Fit Naive Bayes classifier \n",
    "pred_dev_hash = clf.predict(hash_mega_dev_x)                     # Perform classification \n",
    "\n",
    "end = time.time()\n",
    "\n",
    "print(\"Time Taken to fit and classify :\",(end - start))\n",
    "\n",
    "score = metrics.accuracy_score(mega_dev_y, pred_dev_hash)\n",
    "print(\"accuracy:\" ,score)\n",
    "\n",
    "cm = metrics.confusion_matrix(mega_dev_y, pred_dev_hash)\n",
    "v.plot_confusion_matrix(cm, classes=['FAKE', 'REAL'])\n",
    "print(cm)\n",
    "\n",
    "# WOW!! A MASSIVE INCREASE IN ACCURACY COMPARED TO TFIDF. A \"step\" in the right direction. "
   ]
  },
  {
   "cell_type": "code",
   "execution_count": 10,
   "metadata": {},
   "outputs": [
    {
     "name": "stdout",
     "output_type": "stream",
     "text": [
      "accuracy: 0.8235398230088495\n",
      "Confusion matrix, without normalization\n",
      "[[10720  2460]\n",
      " [ 2525 12545]]\n"
     ]
    },
    {
     "data": {
      "image/png": "[encoded data removed]",
      "text/plain": [
       "<Figure size 432x288 with 2 Axes>"
      ]
     },
     "metadata": {
      "needs_background": "light"
     },
     "output_type": "display_data"
    }
   ],
   "source": [
    "#Checking accuracy w.r.t to training data\n",
    "pred_train_hash = clf.predict(hash_mega_train_x)                     # Perform classification \n",
    "\n",
    "score = metrics.accuracy_score(mega_train_y, pred_train_hash)\n",
    "print(\"accuracy:\" ,score)\n",
    "\n",
    "cm = metrics.confusion_matrix(mega_train_y, pred_train_hash)\n",
    "v.plot_confusion_matrix(cm, classes=['FAKE', 'REAL'])\n",
    "print(cm)\n",
    "\n",
    "#Both accuracies i.e hash and tfidf have train and dev nearby. No high bias/variance"
   ]
  },
  {
   "cell_type": "code",
   "execution_count": 11,
   "metadata": {},
   "outputs": [
    {
     "name": "stderr",
     "output_type": "stream",
     "text": [
      "C:\\Users\\Rahul\\Anaconda3\\lib\\site-packages\\sklearn\\naive_bayes.py:480: UserWarning: alpha too small will result in numeric errors, setting alpha = 1.0e-10\n",
      "  'setting alpha = %.1e' % _ALPHA_MIN)\n"
     ]
    },
    {
     "name": "stdout",
     "output_type": "stream",
     "text": [
      "Alpha: 0.00 Score: 0.75453\n",
      "Alpha: 0.10 Score: 0.75170\n",
      "Alpha: 0.20 Score: 0.73952\n",
      "Alpha: 0.30 Score: 0.73358\n",
      "Alpha: 0.40 Score: 0.73358\n",
      "Alpha: 0.50 Score: 0.73046\n",
      "Alpha: 0.60 Score: 0.72650\n",
      "Alpha: 0.70 Score: 0.72424\n",
      "Alpha: 0.80 Score: 0.72169\n",
      "Alpha: 0.90 Score: 0.72140\n",
      "Alpha: 1.00 Score: 0.71942\n"
     ]
    }
   ],
   "source": [
    "#---------------------------------------------------------------------------------------------------------------\n",
    "# Naive Bayes classifier for Multinomial model using hash with Additive (Laplace/Lidstone) smoothing parameter\n",
    "#---------------------------------------------------------------------------------------------------------------\n",
    "\n",
    "clf_lap = MultinomialNB(alpha=0.1) \n",
    "last_score = 0\n",
    "\n",
    "for alpha in np.arange(0,1.1,.1):\n",
    "    nb_classifier = MultinomialNB(alpha=alpha)\n",
    "    nb_classifier.fit(hash_mega_train_x, mega_train_y)\n",
    "    pred_dev_hls = nb_classifier.predict(hash_mega_dev_x)\n",
    "    score = metrics.accuracy_score(mega_dev_y, pred_dev_hls)\n",
    "    if score > last_score:\n",
    "        clf_lap = nb_classifier\n",
    "    print(\"Alpha: {:.2f} Score: {:.5f}\".format(alpha, score))\n",
    "    \n",
    "\n",
    "#Smoothing on hash has a worsening effect on the hash fucntions. Why?\n",
    "#Also alpha at 0.01 provdies higher accuracy as seen in prev model\n",
    "#but same accuracy is not consistent when put it loop here. why?????????\n",
    "#Need to check if proper variables are used.  "
   ]
  },
  {
   "cell_type": "code",
   "execution_count": null,
   "metadata": {},
   "outputs": [],
   "source": []
  },
  {
   "cell_type": "code",
   "execution_count": null,
   "metadata": {},
   "outputs": [],
   "source": []
  }
 ],
 "metadata": {
  "kernelspec": {
   "display_name": "Python 3",
   "language": "python",
   "name": "python3"
  },
  "language_info": {
   "codemirror_mode": {
    "name": "ipython",
    "version": 3
   },
   "file_extension": ".py",
   "mimetype": "text/x-python",
   "name": "python",
   "nbconvert_exporter": "python",
   "pygments_lexer": "ipython3",
   "version": "3.7.1"
  }
 },
 "nbformat": 4,
 "nbformat_minor": 2
}
