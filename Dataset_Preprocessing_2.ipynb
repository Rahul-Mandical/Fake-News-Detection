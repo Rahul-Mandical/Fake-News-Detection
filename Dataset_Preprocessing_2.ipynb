{
 "cells": [
  {
   "cell_type": "code",
   "execution_count": 1,
   "metadata": {},
   "outputs": [
    {
     "data": {
      "text/plain": [
       "'\\nTODO - Create train dev test files.\\n\\nTrain file - Train the model ,Duh!!\\nDev file - Run the model testing on this file for optimization until we get the desired model\\nTest file - Final testing of the model. Hopeful accuracy of 90+ %\\nAll the files are procured from the same distribution aka megaset\\nDistribution : 80:10:10\\n\\nReminder : 1 : TRUE   0 :FALSE\\n\\nRahul from the future: We cannot continue 1 and 0 as causes a vectorization error whose fix causes a dimension error while \\n                building the model. Lets convert it to true and false ;-;.\\n'"
      ]
     },
     "execution_count": 1,
     "metadata": {},
     "output_type": "execute_result"
    }
   ],
   "source": [
    "\"\"\"\n",
    "TODO - Create train dev test files.\n",
    "\n",
    "Train file - Train the model ,Duh!!\n",
    "Dev file - Run the model testing on this file for optimization until we get the desired model\n",
    "Test file - Final testing of the model. Hopeful accuracy of 90+ %\n",
    "All the files are procured from the same distribution aka megaset\n",
    "Distribution : 80:10:10\n",
    "\n",
    "Reminder : 1 : TRUE   0 :FALSE\n",
    "\n",
    "Rahul from the future: We cannot continue 1 and 0 as causes a vectorization error whose fix causes a dimension error while \n",
    "                building the model. Lets convert it to true and false ;-;.\n",
    "\"\"\""
   ]
  },
  {
   "cell_type": "code",
   "execution_count": 2,
   "metadata": {},
   "outputs": [],
   "source": [
    "import pandas as pd\n",
    "from sklearn.model_selection import train_test_split\n"
   ]
  },
  {
   "cell_type": "code",
   "execution_count": 3,
   "metadata": {},
   "outputs": [
    {
     "data": {
      "text/html": [
       "<div>\n",
       "<style scoped>\n",
       "    .dataframe tbody tr th:only-of-type {\n",
       "        vertical-align: middle;\n",
       "    }\n",
       "\n",
       "    .dataframe tbody tr th {\n",
       "        vertical-align: top;\n",
       "    }\n",
       "\n",
       "    .dataframe thead th {\n",
       "        text-align: right;\n",
       "    }\n",
       "</style>\n",
       "<table border=\"1\" class=\"dataframe\">\n",
       "  <thead>\n",
       "    <tr style=\"text-align: right;\">\n",
       "      <th></th>\n",
       "      <th>Rating</th>\n",
       "      <th>Statement</th>\n",
       "    </tr>\n",
       "  </thead>\n",
       "  <tbody>\n",
       "    <tr>\n",
       "      <th>0</th>\n",
       "      <td>0</td>\n",
       "      <td>When Obama was sworn into office, he DID NOT u...</td>\n",
       "    </tr>\n",
       "    <tr>\n",
       "      <th>1</th>\n",
       "      <td>0</td>\n",
       "      <td>Says Having organizations parading as being so...</td>\n",
       "    </tr>\n",
       "    <tr>\n",
       "      <th>2</th>\n",
       "      <td>0</td>\n",
       "      <td>Says nearly half of Oregons children are poor.</td>\n",
       "    </tr>\n",
       "    <tr>\n",
       "      <th>3</th>\n",
       "      <td>1</td>\n",
       "      <td>On attacks by Republicans that various program...</td>\n",
       "    </tr>\n",
       "    <tr>\n",
       "      <th>4</th>\n",
       "      <td>0</td>\n",
       "      <td>Says when armed civilians stop mass shootings ...</td>\n",
       "    </tr>\n",
       "  </tbody>\n",
       "</table>\n",
       "</div>"
      ],
      "text/plain": [
       "   Rating                                          Statement\n",
       "0       0  When Obama was sworn into office, he DID NOT u...\n",
       "1       0  Says Having organizations parading as being so...\n",
       "2       0     Says nearly half of Oregons children are poor.\n",
       "3       1  On attacks by Republicans that various program...\n",
       "4       0  Says when armed civilians stop mass shootings ..."
      ]
     },
     "execution_count": 3,
     "metadata": {},
     "output_type": "execute_result"
    }
   ],
   "source": [
    "megaset=pd.read_csv('megaset.csv')\n",
    "\n",
    "megaset.head()"
   ]
  },
  {
   "cell_type": "code",
   "execution_count": 4,
   "metadata": {},
   "outputs": [
    {
     "name": "stdout",
     "output_type": "stream",
     "text": [
      "Megaset size 70628\n",
      "Columns :  Index(['Rating', 'Statement'], dtype='object')\n",
      "Number of true statements :  18814\n",
      "Number of false statements :  16500\n"
     ]
    }
   ],
   "source": [
    "#description of the dataset \n",
    "\n",
    "#print(megaset.head())\n",
    "print(\"Megaset size\",megaset.size)\n",
    "print(\"Columns : \",megaset.columns)\n",
    "\n",
    "t=0\n",
    "f=0\n",
    "for i in megaset.Rating:\n",
    "    if i==1:\n",
    "        t=t+1\n",
    "    else:\n",
    "        f=f+1\n",
    "print(\"Number of true statements : \",t)\n",
    "print(\"Number of false statements : \",f)\n"
   ]
  },
  {
   "cell_type": "code",
   "execution_count": 5,
   "metadata": {},
   "outputs": [
    {
     "data": {
      "text/html": [
       "<div>\n",
       "<style scoped>\n",
       "    .dataframe tbody tr th:only-of-type {\n",
       "        vertical-align: middle;\n",
       "    }\n",
       "\n",
       "    .dataframe tbody tr th {\n",
       "        vertical-align: top;\n",
       "    }\n",
       "\n",
       "    .dataframe thead th {\n",
       "        text-align: right;\n",
       "    }\n",
       "</style>\n",
       "<table border=\"1\" class=\"dataframe\">\n",
       "  <thead>\n",
       "    <tr style=\"text-align: right;\">\n",
       "      <th></th>\n",
       "      <th>Rating</th>\n",
       "      <th>Statement</th>\n",
       "    </tr>\n",
       "  </thead>\n",
       "  <tbody>\n",
       "    <tr>\n",
       "      <th>0</th>\n",
       "      <td>False</td>\n",
       "      <td>When Obama was sworn into office, he DID NOT u...</td>\n",
       "    </tr>\n",
       "    <tr>\n",
       "      <th>1</th>\n",
       "      <td>False</td>\n",
       "      <td>Says Having organizations parading as being so...</td>\n",
       "    </tr>\n",
       "    <tr>\n",
       "      <th>2</th>\n",
       "      <td>False</td>\n",
       "      <td>Says nearly half of Oregons children are poor.</td>\n",
       "    </tr>\n",
       "    <tr>\n",
       "      <th>3</th>\n",
       "      <td>True</td>\n",
       "      <td>On attacks by Republicans that various program...</td>\n",
       "    </tr>\n",
       "    <tr>\n",
       "      <th>4</th>\n",
       "      <td>False</td>\n",
       "      <td>Says when armed civilians stop mass shootings ...</td>\n",
       "    </tr>\n",
       "  </tbody>\n",
       "</table>\n",
       "</div>"
      ],
      "text/plain": [
       "  Rating                                          Statement\n",
       "0  False  When Obama was sworn into office, he DID NOT u...\n",
       "1  False  Says Having organizations parading as being so...\n",
       "2  False     Says nearly half of Oregons children are poor.\n",
       "3   True  On attacks by Republicans that various program...\n",
       "4  False  Says when armed civilians stop mass shootings ..."
      ]
     },
     "execution_count": 5,
     "metadata": {},
     "output_type": "execute_result"
    }
   ],
   "source": [
    "#Renaming it but not rewriting the main megaset\n",
    "megaset.loc[megaset[\"Rating\"]==1, \"Rating\"] = \"True\"\n",
    "megaset.loc[megaset[\"Rating\"]==0, \"Rating\"] = \"False\"\n",
    "megaset.head()"
   ]
  },
  {
   "cell_type": "code",
   "execution_count": 6,
   "metadata": {},
   "outputs": [
    {
     "name": "stdout",
     "output_type": "stream",
     "text": [
      "(35314,)\n",
      "(35314,)\n"
     ]
    }
   ],
   "source": [
    "mega_x=megaset.Statement\n",
    "mega_y=megaset.Rating\n",
    "\n",
    "#splitting x and y . y is to be predicted !!\n",
    "print(mega_x.shape)\n",
    "print(mega_y.shape)"
   ]
  },
  {
   "cell_type": "code",
   "execution_count": 7,
   "metadata": {},
   "outputs": [
    {
     "name": "stdout",
     "output_type": "stream",
     "text": [
      "31782\n",
      "3532\n",
      "28250\n",
      "3532\n",
      "<class 'pandas.core.series.Series'>\n",
      "Final size of train/dev/test :  28250 / 3532 / 3532\n"
     ]
    }
   ],
   "source": [
    "#train test split to form test from megaset\n",
    "#If overfitting occurs try kfold cross validation\n",
    "\n",
    "X_train_temp, mega_test_x, y_train_temp, mega_test_y = train_test_split(mega_x,mega_y,test_size=0.1,random_state=12)\n",
    "print(X_train_temp.size)\n",
    "print(mega_test_x.size)\n",
    "\n",
    "# mega_test_x : Final testing file with statements\n",
    "# mega_test_y : Final testing file with ratings\n",
    "\n",
    "mega_train_x, mega_dev_x, mega_train_y, mega_dev_y = train_test_split(X_train_temp,y_train_temp,test_size=3532,random_state=12)\n",
    "\n",
    "print(mega_train_x.size)\n",
    "print(mega_dev_x.size)\n",
    "\n",
    "# mega_train_x : Training file with statements\n",
    "# mega_train_y : Training file with ratings\n",
    "# mega_dev_x   : Development testing file with statements\n",
    "# mega_dev_y   : Development testing file with ratings\n",
    "print(type(mega_train_x))\n",
    "print(\"Final size of train/dev/test : \",mega_train_x.size,\"/\",mega_dev_x.size,\"/\",mega_test_x.size)"
   ]
  },
  {
   "cell_type": "code",
   "execution_count": 8,
   "metadata": {},
   "outputs": [
    {
     "data": {
      "text/plain": [
       "\"\\n#writing the files unto a folder named split megaset :0\\n\\nmega_train_x.to_csv('Split megaset/mega_train_x.csv')\\nmega_train_y.to_csv('Split megaset/mega_train_y.csv')\\nmega_dev_x.to_csv('Split megaset/mega_dev_x.csv')\\nmega_dev_y.to_csv('Split megaset/mega_dev_y.csv')\\nmega_test_x.to_csv('Split megaset/mega_test_x.csv')\\nmega_test_y.to_csv('Split megaset/mega_test_y.csv')\\n\\n#files ready, unto to vectorization\\n\\n\""
      ]
     },
     "execution_count": 8,
     "metadata": {},
     "output_type": "execute_result"
    }
   ],
   "source": [
    "\"\"\"\n",
    "leave this commented unless you want to waste extra resources re-writing files. Run this once and save those files. \n",
    "\n",
    "#writing the files unto a folder named split megaset :0\n",
    "\n",
    "mega_train_x.to_csv('Split megaset/mega_train_x.csv')\n",
    "mega_train_y.to_csv('Split megaset/mega_train_y.csv')\n",
    "mega_dev_x.to_csv('Split megaset/mega_dev_x.csv')\n",
    "mega_dev_y.to_csv('Split megaset/mega_dev_y.csv')\n",
    "mega_test_x.to_csv('Split megaset/mega_test_x.csv')\n",
    "mega_test_y.to_csv('Split megaset/mega_test_y.csv')\n",
    "\n",
    "#files ready, unto to vectorization\n",
    "\n",
    "\"\"\""
   ]
  }
 ],
 "metadata": {
  "kernelspec": {
   "display_name": "Python 3",
   "language": "python",
   "name": "python3"
  },
  "language_info": {
   "codemirror_mode": {
    "name": "ipython",
    "version": 3
   },
   "file_extension": ".py",
   "mimetype": "text/x-python",
   "name": "python",
   "nbconvert_exporter": "python",
   "pygments_lexer": "ipython3",
   "version": "3.7.1"
  }
 },
 "nbformat": 4,
 "nbformat_minor": 2
}
