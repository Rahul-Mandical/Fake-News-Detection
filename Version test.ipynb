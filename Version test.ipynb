{
 "cells": [
  {
   "cell_type": "code",
   "execution_count": 1,
   "metadata": {},
   "outputs": [
    {
     "name": "stdout",
     "output_type": "stream",
     "text": [
      "sys.version: 3.7.1 (default, Dec 10 2018, 22:54:23) [MSC v.1915 64 bit (AMD64)]\n",
      "sys.api_version: 1013\n",
      "sys.version_info: sys.version_info(major=3, minor=7, micro=1, releaselevel='final', serial=0)\n",
      "sys.hexversion: 50790896\n"
     ]
    }
   ],
   "source": [
    "\"\"\"\n",
    "Run this file in order to check if all the team memebers are running the same version\n",
    "Copy paste the code or run this file and check with the current output\n",
    "If its not of this version:\n",
    "    if your version is higher:\n",
    "        Update this file\n",
    "    elif your version is lower:\n",
    "        run the following command in ANACONDA PROMPT\n",
    "        \"conda update conda\"\n",
    "        after installing the updated conda, recheck the version.\n",
    "        still not updated, then reinstall anaconda navigator\n",
    "        Thanks and have fun\n",
    "\n",
    "\"\"\"\n"
   ]
  },
  {
   "cell_type": "code",
   "execution_count": null,
   "metadata": {},
   "outputs": [],
   "source": [
    "from sys import version_info, api_version, version, hexversion\n",
    "\n",
    "print(f\"sys.version: {version}\")\n",
    "print(f\"sys.api_version: {api_version}\")\n",
    "print(f\"sys.version_info: {version_info}\")\n",
    "print(f\"sys.hexversion: {hexversion}\")"
   ]
  }
 ],
 "metadata": {
  "kernelspec": {
   "display_name": "Python 3",
   "language": "python",
   "name": "python3"
  },
  "language_info": {
   "codemirror_mode": {
    "name": "ipython",
    "version": 3
   },
   "file_extension": ".py",
   "mimetype": "text/x-python",
   "name": "python",
   "nbconvert_exporter": "python",
   "pygments_lexer": "ipython3",
   "version": "3.7.4"
  }
 },
 "nbformat": 4,
 "nbformat_minor": 2
}
