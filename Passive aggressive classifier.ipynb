{
 "cells": [
  {
   "cell_type": "code",
   "execution_count": 2,
   "metadata": {},
   "outputs": [
    {
     "data": {
      "text/plain": [
       "'\\nTO-DO : Create two models of Passive aggressive classifier using tfidf and hash dataset\\n        Hopefully it performs better than Naive bayes\\n        \\n        Summary of the model : Accuracy is with respect to \"dev\"\\n        ------------------------------\\n        Model Name: clb/clb_lap\\n        Algorithm : Naive Bayers - TFIDF MultinomialNB\\n        Time to train : 0.067\\n        Accuracy : 0.76\\n        Accuracy with smoothing:0.77293\\n        -------------------------------\\n        \\n        ------------------------------\\n        Model Name: clf/clf_lap\\n        Algorithm : Naive Bayers - Hash MultinomialNB\\n        Time to train : 0.112\\n        Accuracy : 0.77\\n        Accuracy with smoothing:0.75453\\n        -------------------------------\\n        \\n'"
      ]
     },
     "execution_count": 2,
     "metadata": {},
     "output_type": "execute_result"
    }
   ],
   "source": [
    "\"\"\"\n",
    "TO-DO : Create two models of Passive aggressive classifier using tfidf and hash dataset\n",
    "        Hopefully it performs better than Naive bayes\n",
    "        Future Rahul : ↑↑↑ HAHAHAAHAHAHHAHAHAHAHAAHAHHAHA ↑↑↑\n",
    "        \n",
    "        \n",
    "        Summary of the model : Accuracy is with respect to \"dev\"\n",
    "        ------------------------------\n",
    "        Model Name: pac_tfidf\n",
    "        Algorithm : Passive aggresive Classifier - tfidf\n",
    "        Time to train : 0.467\n",
    "        Accuracy : 0.73\n",
    "        -------------------------------\n",
    "        \n",
    "        ------------------------------\n",
    "        Model Name: pac_hash\n",
    "        Algorithm : Passive aggresive Classifier - tfidf\n",
    "        Time to train : 0.683\n",
    "        Accuracy : 0.74\n",
    "        -------------------------------\n",
    "        \n",
    "Rahul's Intuition : Unlike in naive bayes, the training accuracy is decent, not too high for overfitting though.\n",
    "                    The drop in the accuracy wrt to dev set shows potential for improvement. It has high optimization\n",
    "                    potential.\n",
    "\n",
    "\n",
    "\n",
    "\n",
    "\"\"\""
   ]
  },
  {
   "cell_type": "code",
   "execution_count": 1,
   "metadata": {},
   "outputs": [
    {
     "name": "stdout",
     "output_type": "stream",
     "text": [
      "importing Jupyter notebook from Vectorization.ipynb\n",
      "importing Jupyter notebook from Dataset_Preprocessing_2.ipynb\n",
      "Megaset size 70628\n",
      "Columns :  Index(['Rating', 'Statement'], dtype='object')\n",
      "Number of true statements :  18814\n",
      "Number of false statements :  16500\n",
      "(35314,)\n",
      "(35314,)\n",
      "31782\n",
      "3532\n",
      "28250\n",
      "3532\n",
      "<class 'pandas.core.series.Series'>\n",
      "Final size of train/dev/test :  28250 / 3532 / 3532\n",
      "28250\n",
      "(28250,)\n",
      "<class 'pandas.core.series.Series'>\n",
      "(28250,)\n"
     ]
    }
   ],
   "source": [
    "import pandas as pd\n",
    "import import_ipynb\n",
    "import Vectorization as v\n",
    "import time\n",
    "from sklearn import metrics\n",
    "from sklearn.metrics import confusion_matrix\n",
    "from sklearn.linear_model import PassiveAggressiveClassifier\n",
    "from matplotlib import pyplot as plt"
   ]
  },
  {
   "cell_type": "code",
   "execution_count": 3,
   "metadata": {},
   "outputs": [],
   "source": [
    "#Storing tfidf variables for the model\n",
    "\n",
    "tfidf_mega_train_x = v.tfidf_mega_train_x\n",
    "tfidf_mega_dev_x = v.tfidf_mega_dev_x\n",
    "tfidf_mega_test_x = v.tfidf_mega_test_x\n",
    "\n",
    "\n",
    "\n",
    "mega_train_y=v.mega_train_y\n",
    "mega_dev_y=v.mega_dev_y\n"
   ]
  },
  {
   "cell_type": "code",
   "execution_count": 14,
   "metadata": {},
   "outputs": [
    {
     "name": "stdout",
     "output_type": "stream",
     "text": [
      "Time Taken to fit and classify : 0.46775078773498535\n",
      "accuracy: 0.7301812004530012\n",
      "Confusion matrix, without normalization\n",
      "[[1161  492]\n",
      " [ 461 1418]]\n"
     ]
    },
    {
     "data": {
      "image/png": "[encoded data removed]",
      "text/plain": [
       "<Figure size 432x288 with 2 Axes>"
      ]
     },
     "metadata": {
      "needs_background": "light"
     },
     "output_type": "display_data"
    }
   ],
   "source": [
    "#--------------------------------------------------------------\n",
    "# Applying Passive Aggressive Classifier with tfidf\n",
    "#--------------------------------------------------------------\n",
    "\n",
    "pac_tfidf = PassiveAggressiveClassifier(n_iter=50)\n",
    "\n",
    "start = time.time()\n",
    "\n",
    "pac_tfidf.fit(tfidf_mega_train_x, mega_train_y)\n",
    "pred_pac_tfidf = pac_tfidf.predict(tfidf_mega_dev_x)\n",
    "\n",
    "end = time.time()\n",
    "\n",
    "print(\"Time Taken to fit and classify :\",(end - start))\n",
    "\n",
    "score = metrics.accuracy_score(mega_dev_y, pred_pac_tfidf)\n",
    "print(\"accuracy:\",score)\n",
    "cm_pac_tfidf = metrics.confusion_matrix(mega_dev_y, pred_pac_tfidf)\n",
    "v.plot_confusion_matrix(cm_pac_tfidf, classes=['FAKE', 'REAL'])\n",
    "print(cm_pac_tfidf)\n",
    "\n",
    "#looping to find the best n_iter is required\n",
    "#Find other ways to increase the accuracy\n"
   ]
  },
  {
   "cell_type": "code",
   "execution_count": 16,
   "metadata": {},
   "outputs": [
    {
     "name": "stdout",
     "output_type": "stream",
     "text": [
      "accuracy: 0.9358938053097345\n",
      "Confusion matrix, without normalization\n",
      "[[12234   946]\n",
      " [  865 14205]]\n"
     ]
    },
    {
     "data": {
      "image/png": "[encoded data removed]",
      "text/plain": [
       "<Figure size 432x288 with 2 Axes>"
      ]
     },
     "metadata": {
      "needs_background": "light"
     },
     "output_type": "display_data"
    }
   ],
   "source": [
    "#TRAINING ON TRAIN DATA FOR bias and variance w.r.t to tfidf\n",
    "\n",
    "pred_train_pac = pac_tfidf.predict(tfidf_mega_train_x)                     # Perform classification \n",
    "\n",
    "score = metrics.accuracy_score(mega_train_y, pred_train_pac)\n",
    "print(\"accuracy:\" ,score)\n",
    "\n",
    "cm = metrics.confusion_matrix(mega_train_y, pred_train_pac)\n",
    "v.plot_confusion_matrix(cm, classes=['FAKE', 'REAL'])\n",
    "print(cm)\n",
    "\n",
    "#great Training accuracy . Leaning slightely towards high variance"
   ]
  },
  {
   "cell_type": "code",
   "execution_count": 17,
   "metadata": {},
   "outputs": [],
   "source": [
    "#Lets hope hash does better\n",
    "\n",
    "#Storing variables from hash fuction\n",
    "\n",
    "hash_mega_train_x = v.hash_mega_train_x \n",
    "hash_mega_test_x = v.hash_mega_test_x\n",
    "hash_mega_dev_x = v.hash_mega_dev_x "
   ]
  },
  {
   "cell_type": "code",
   "execution_count": 21,
   "metadata": {},
   "outputs": [
    {
     "name": "stdout",
     "output_type": "stream",
     "text": [
      "Time Taken to fit and classify : 0.6831471920013428\n",
      "accuracy: 0.7457531143827859\n",
      "Confusion matrix, without normalization\n",
      "[[1197  456]\n",
      " [ 442 1437]]\n"
     ]
    },
    {
     "data": {
      "image/png": "[encoded data removed]",
      "text/plain": [
       "<Figure size 432x288 with 2 Axes>"
      ]
     },
     "metadata": {
      "needs_background": "light"
     },
     "output_type": "display_data"
    }
   ],
   "source": [
    "#--------------------------------------------------------------\n",
    "# Applying Passive Aggressive Classifier with hash\n",
    "#--------------------------------------------------------------\n",
    "\n",
    "pac_hash = PassiveAggressiveClassifier(n_iter=50)\n",
    "\n",
    "start = time.time()\n",
    "\n",
    "pac_hash.fit(hash_mega_train_x, mega_train_y)\n",
    "pred_pac_hash = pac_hash.predict(hash_mega_dev_x)\n",
    "\n",
    "end = time.time()\n",
    "\n",
    "print(\"Time Taken to fit and classify :\",(end - start))\n",
    "\n",
    "score = metrics.accuracy_score(mega_dev_y, pred_pac_hash)\n",
    "print(\"accuracy:\",score)\n",
    "cm_pac_hash = metrics.confusion_matrix(mega_dev_y, pred_pac_hash)\n",
    "v.plot_confusion_matrix(cm_pac_hash, classes=['FAKE', 'REAL'])\n",
    "print(cm_pac_hash)\n",
    "\n",
    "#unhappy with the accuracy, try and optimize and also loop the damm n_iter !!"
   ]
  },
  {
   "cell_type": "code",
   "execution_count": 22,
   "metadata": {},
   "outputs": [
    {
     "name": "stdout",
     "output_type": "stream",
     "text": [
      "accuracy: 0.9258761061946903\n",
      "Confusion matrix, without normalization\n",
      "[[12144  1036]\n",
      " [ 1058 14012]]\n"
     ]
    },
    {
     "data": {
      "image/png": "[encoded data removed]",
      "text/plain": [
       "<Figure size 432x288 with 2 Axes>"
      ]
     },
     "metadata": {
      "needs_background": "light"
     },
     "output_type": "display_data"
    }
   ],
   "source": [
    "#TRAINING ON TRAIN DATA FOR bias and variance w.r.t to hash\n",
    "\n",
    "pred_train_pach = pac_hash.predict(hash_mega_train_x)                     # Perform classification \n",
    "\n",
    "score = metrics.accuracy_score(mega_train_y, pred_train_pach)\n",
    "print(\"accuracy:\" ,score)\n",
    "\n",
    "cm_pach = metrics.confusion_matrix(mega_train_y, pred_train_pach)\n",
    "v.plot_confusion_matrix(cm_pach, classes=['FAKE', 'REAL'])\n",
    "print(cm_pach)\n",
    "\n",
    "#great Training accuracy . Leaning slightely towards high variance again."
   ]
  },
  {
   "cell_type": "code",
   "execution_count": null,
   "metadata": {},
   "outputs": [],
   "source": []
  }
 ],
 "metadata": {
  "kernelspec": {
   "display_name": "Python 3",
   "language": "python",
   "name": "python3"
  },
  "language_info": {
   "codemirror_mode": {
    "name": "ipython",
    "version": 3
   },
   "file_extension": ".py",
   "mimetype": "text/x-python",
   "name": "python",
   "nbconvert_exporter": "python",
   "pygments_lexer": "ipython3",
   "version": "3.7.1"
  }
 },
 "nbformat": 4,
 "nbformat_minor": 2
}
